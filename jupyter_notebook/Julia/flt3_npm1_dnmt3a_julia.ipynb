{
 "cells": [
  {
   "cell_type": "code",
   "execution_count": null,
   "id": "cec18ede",
   "metadata": {},
   "outputs": [],
   "source": [
    "#loading the packages#\n",
    "\n",
    "#using Pkg\n",
    "#Pkg.add(\"DataFrames\")\n",
    "#Pkg.add(\"Random\")\n",
    "#Pkg.add(\"RollingFunctions\")\n",
    "#Pkg.add(\"XLSX\")\n",
    "#Pkg.add(\"Distributions\") \n",
    "\n",
    "using DataFrames\n",
    "using Random\n",
    "using RollingFunctions\n",
    "import XLSX\n",
    "using Distributions"
   ]
  }
 ],
 "metadata": {
  "kernelspec": {
   "display_name": "Julia 1.9.2",
   "language": "julia",
   "name": "julia-1.9"
  },
  "language_info": {
   "file_extension": ".jl",
   "mimetype": "application/julia",
   "name": "julia",
   "version": "1.9.2"
  }
 },
 "nbformat": 4,
 "nbformat_minor": 5
}
