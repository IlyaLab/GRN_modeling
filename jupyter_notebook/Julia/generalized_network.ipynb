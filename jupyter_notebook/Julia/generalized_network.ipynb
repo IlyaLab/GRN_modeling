{
 "cells": [
  {
   "cell_type": "code",
   "execution_count": 50,
   "id": "a8084794",
   "metadata": {},
   "outputs": [],
   "source": [
    "#Created on 1/15/24 by Tazein Shah\n",
    "#Testing how to create a generalized network for models in Julia (will test with whole AML network) "
   ]
  },
  {
   "cell_type": "code",
   "execution_count": 51,
   "id": "d5ffdb57",
   "metadata": {},
   "outputs": [
    {
     "name": "stderr",
     "output_type": "stream",
     "text": [
      "WARNING: replacing module KGBN.\n"
     ]
    },
    {
     "data": {
      "text/html": [
       "<div><div style = \"float: left;\"><span>49×3 DataFrame</span></div><div style = \"float: right;\"><span style = \"font-style: italic;\">24 rows omitted</span></div><div style = \"clear: both;\"></div></div><div class = \"data-frame\" style = \"overflow-x: scroll;\"><table class = \"data-frame\" style = \"margin-bottom: 6px;\"><thead><tr class = \"header\"><th class = \"rowNumber\" style = \"font-weight: bold; text-align: right;\">Row</th><th style = \"text-align: left;\">node1</th><th style = \"text-align: left;\">node2</th><th style = \"text-align: left;\">Operation</th></tr><tr class = \"subheader headerLastRow\"><th class = \"rowNumber\" style = \"font-weight: bold; text-align: right;\"></th><th title = \"String7\" style = \"text-align: left;\">String7</th><th title = \"String7\" style = \"text-align: left;\">String7</th><th title = \"String15\" style = \"text-align: left;\">String15</th></tr></thead><tbody><tr><td class = \"rowNumber\" style = \"font-weight: bold; text-align: right;\">1</td><td style = \"text-align: left;\">AKT1</td><td style = \"text-align: left;\">GSK3B</td><td style = \"text-align: left;\">inhibit</td></tr><tr><td class = \"rowNumber\" style = \"font-weight: bold; text-align: right;\">2</td><td style = \"text-align: left;\">AKT1</td><td style = \"text-align: left;\">GATA2</td><td style = \"text-align: left;\">inhibit</td></tr><tr><td class = \"rowNumber\" style = \"font-weight: bold; text-align: right;\">3</td><td style = \"text-align: left;\">AKT1</td><td style = \"text-align: left;\">BCL2</td><td style = \"text-align: left;\">activate</td></tr><tr><td class = \"rowNumber\" style = \"font-weight: bold; text-align: right;\">4</td><td style = \"text-align: left;\">AKT1</td><td style = \"text-align: left;\">BRAF</td><td style = \"text-align: left;\">activate</td></tr><tr><td class = \"rowNumber\" style = \"font-weight: bold; text-align: right;\">5</td><td style = \"text-align: left;\">AKT1</td><td style = \"text-align: left;\">MAPK1</td><td style = \"text-align: left;\">activate</td></tr><tr><td class = \"rowNumber\" style = \"font-weight: bold; text-align: right;\">6</td><td style = \"text-align: left;\">AKT1</td><td style = \"text-align: left;\">BRAF</td><td style = \"text-align: left;\">inhibit</td></tr><tr><td class = \"rowNumber\" style = \"font-weight: bold; text-align: right;\">7</td><td style = \"text-align: left;\">BRAF</td><td style = \"text-align: left;\">MAP2K2</td><td style = \"text-align: left;\">activate</td></tr><tr><td class = \"rowNumber\" style = \"font-weight: bold; text-align: right;\">8</td><td style = \"text-align: left;\">CDKN2A</td><td style = \"text-align: left;\">NPM1</td><td style = \"text-align: left;\">inhibit</td></tr><tr><td class = \"rowNumber\" style = \"font-weight: bold; text-align: right;\">9</td><td style = \"text-align: left;\">CDKN2A</td><td style = \"text-align: left;\">TP53</td><td style = \"text-align: left;\">activate</td></tr><tr><td class = \"rowNumber\" style = \"font-weight: bold; text-align: right;\">10</td><td style = \"text-align: left;\">CEBPA</td><td style = \"text-align: left;\">MYC</td><td style = \"text-align: left;\">inhibit</td></tr><tr><td class = \"rowNumber\" style = \"font-weight: bold; text-align: right;\">11</td><td style = \"text-align: left;\">CEBPA</td><td style = \"text-align: left;\">SOX4</td><td style = \"text-align: left;\">inhibit</td></tr><tr><td class = \"rowNumber\" style = \"font-weight: bold; text-align: right;\">12</td><td style = \"text-align: left;\">DNMT3A</td><td style = \"text-align: left;\">CCND1</td><td style = \"text-align: left;\">inhibit</td></tr><tr><td class = \"rowNumber\" style = \"font-weight: bold; text-align: right;\">13</td><td style = \"text-align: left;\">DNMT3A</td><td style = \"text-align: left;\">CDKN2A</td><td style = \"text-align: left;\">inhibit</td></tr><tr><td style = \"text-align: right;\">&vellip;</td><td style = \"text-align: right;\">&vellip;</td><td style = \"text-align: right;\">&vellip;</td><td style = \"text-align: right;\">&vellip;</td></tr><tr><td class = \"rowNumber\" style = \"font-weight: bold; text-align: right;\">38</td><td style = \"text-align: left;\">MYC</td><td style = \"text-align: left;\">DNMT3A</td><td style = \"text-align: left;\">activate</td></tr><tr><td class = \"rowNumber\" style = \"font-weight: bold; text-align: right;\">39</td><td style = \"text-align: left;\">NFKB2</td><td style = \"text-align: left;\">BCL2</td><td style = \"text-align: left;\">activate</td></tr><tr><td class = \"rowNumber\" style = \"font-weight: bold; text-align: right;\">40</td><td style = \"text-align: left;\">NFKB2</td><td style = \"text-align: left;\">CCND1</td><td style = \"text-align: left;\">activate</td></tr><tr><td class = \"rowNumber\" style = \"font-weight: bold; text-align: right;\">41</td><td style = \"text-align: left;\">NPM1</td><td style = \"text-align: left;\">FBXW7</td><td style = \"text-align: left;\">activate</td></tr><tr><td class = \"rowNumber\" style = \"font-weight: bold; text-align: right;\">42</td><td style = \"text-align: left;\">NPM1</td><td style = \"text-align: left;\">CDKN2A</td><td style = \"text-align: left;\">activate</td></tr><tr><td class = \"rowNumber\" style = \"font-weight: bold; text-align: right;\">43</td><td style = \"text-align: left;\">NPM1</td><td style = \"text-align: left;\">HOXA9</td><td style = \"text-align: left;\">inhibit</td></tr><tr><td class = \"rowNumber\" style = \"font-weight: bold; text-align: right;\">44</td><td style = \"text-align: left;\">NRAS</td><td style = \"text-align: left;\">BRAF</td><td style = \"text-align: left;\">activate</td></tr><tr><td class = \"rowNumber\" style = \"font-weight: bold; text-align: right;\">45</td><td style = \"text-align: left;\">PTPN11</td><td style = \"text-align: left;\">NRAS</td><td style = \"text-align: left;\">activate</td></tr><tr><td class = \"rowNumber\" style = \"font-weight: bold; text-align: right;\">46</td><td style = \"text-align: left;\">STAT5A</td><td style = \"text-align: left;\">DNMT3A</td><td style = \"text-align: left;\">inhibit</td></tr><tr><td class = \"rowNumber\" style = \"font-weight: bold; text-align: right;\">47</td><td style = \"text-align: left;\">STAT5A</td><td style = \"text-align: left;\">DNMT3A</td><td style = \"text-align: left;\">activate</td></tr><tr><td class = \"rowNumber\" style = \"font-weight: bold; text-align: right;\">48</td><td style = \"text-align: left;\">TP53</td><td style = \"text-align: left;\">BCL2</td><td style = \"text-align: left;\">inhibit</td></tr><tr><td class = \"rowNumber\" style = \"font-weight: bold; text-align: right;\">49</td><td style = \"text-align: left;\">TP53</td><td style = \"text-align: left;\">NFKB2</td><td style = \"text-align: left;\">activate</td></tr></tbody></table></div>"
      ],
      "text/latex": [
       "\\begin{tabular}{r|ccc}\n",
       "\t& node1 & node2 & Operation\\\\\n",
       "\t\\hline\n",
       "\t& String7 & String7 & String15\\\\\n",
       "\t\\hline\n",
       "\t1 & AKT1 & GSK3B & inhibit \\\\\n",
       "\t2 & AKT1 & GATA2 & inhibit \\\\\n",
       "\t3 & AKT1 & BCL2 & activate \\\\\n",
       "\t4 & AKT1 & BRAF & activate \\\\\n",
       "\t5 & AKT1 & MAPK1 & activate \\\\\n",
       "\t6 & AKT1 & BRAF & inhibit \\\\\n",
       "\t7 & BRAF & MAP2K2 & activate \\\\\n",
       "\t8 & CDKN2A & NPM1 & inhibit \\\\\n",
       "\t9 & CDKN2A & TP53 & activate \\\\\n",
       "\t10 & CEBPA & MYC & inhibit \\\\\n",
       "\t11 & CEBPA & SOX4 & inhibit \\\\\n",
       "\t12 & DNMT3A & CCND1 & inhibit \\\\\n",
       "\t13 & DNMT3A & CDKN2A & inhibit \\\\\n",
       "\t14 & DNMT3A & MEIS1 & inhibit \\\\\n",
       "\t15 & DNMT3A & HOXA9 & inhibit \\\\\n",
       "\t16 & FBXW7 & GATA2 & inhibit \\\\\n",
       "\t17 & FBXW7 & MYC & inhibit \\\\\n",
       "\t18 & FLT3 & MYC & activate \\\\\n",
       "\t19 & FLT3 & AKT1 & activate \\\\\n",
       "\t20 & FLT3 & CEBPA & inhibit \\\\\n",
       "\t21 & FLT3 & STAT5A & activate \\\\\n",
       "\t22 & FLT3 & PTPN11 & activate \\\\\n",
       "\t23 & GSK3B & MYC & inhibit \\\\\n",
       "\t24 & GSK3B & CCND1 & inhibit \\\\\n",
       "\t25 & GSK3B & CEBPA & activate \\\\\n",
       "\t26 & GSK3B & TP53 & activate \\\\\n",
       "\t27 & HOXA9 & MEIS1 & activate \\\\\n",
       "\t28 & MAP2K2 & MAPK1 & activate \\\\\n",
       "\t29 & MAPK1 & GSK3B & inhibit \\\\\n",
       "\t30 & MAPK1 & MYC & activate \\\\\n",
       "\t$\\dots$ & $\\dots$ & $\\dots$ & $\\dots$ \\\\\n",
       "\\end{tabular}\n"
      ],
      "text/plain": [
       "\u001b[1m49×3 DataFrame\u001b[0m\n",
       "\u001b[1m Row \u001b[0m│\u001b[1m node1   \u001b[0m\u001b[1m node2   \u001b[0m\u001b[1m Operation \u001b[0m\n",
       "     │\u001b[90m String7 \u001b[0m\u001b[90m String7 \u001b[0m\u001b[90m String15  \u001b[0m\n",
       "─────┼─────────────────────────────\n",
       "   1 │ AKT1     GSK3B    inhibit\n",
       "   2 │ AKT1     GATA2    inhibit\n",
       "   3 │ AKT1     BCL2     activate\n",
       "   4 │ AKT1     BRAF     activate\n",
       "   5 │ AKT1     MAPK1    activate\n",
       "   6 │ AKT1     BRAF     inhibit\n",
       "   7 │ BRAF     MAP2K2   activate\n",
       "   8 │ CDKN2A   NPM1     inhibit\n",
       "   9 │ CDKN2A   TP53     activate\n",
       "  10 │ CEBPA    MYC      inhibit\n",
       "  11 │ CEBPA    SOX4     inhibit\n",
       "  ⋮  │    ⋮        ⋮         ⋮\n",
       "  40 │ NFKB2    CCND1    activate\n",
       "  41 │ NPM1     FBXW7    activate\n",
       "  42 │ NPM1     CDKN2A   activate\n",
       "  43 │ NPM1     HOXA9    inhibit\n",
       "  44 │ NRAS     BRAF     activate\n",
       "  45 │ PTPN11   NRAS     activate\n",
       "  46 │ STAT5A   DNMT3A   inhibit\n",
       "  47 │ STAT5A   DNMT3A   activate\n",
       "  48 │ TP53     BCL2     inhibit\n",
       "  49 │ TP53     NFKB2    activate\n",
       "\u001b[36m                    28 rows omitted\u001b[0m"
      ]
     },
     "execution_count": 51,
     "metadata": {},
     "output_type": "execute_result"
    }
   ],
   "source": [
    "#using Pkg\n",
    "#Pkg.add(\"CSV\")\n",
    "using DataFrames\n",
    "using CSV \n",
    "\n",
    "#importing the KGBN file\n",
    "include(\"/Users/15167/OneDrive/Documents/ISB/AML-DT-BNM/KGBN_Julia.jl\")\n",
    "\n",
    "network = DataFrame(node1= String[], node2 = String[], Operation=String[])\n",
    "\n",
    "push!(network, \n",
    "(\"X\",\"X\",\"activate\"),\n",
    "(\"X\",\"X\",\"activate\"),\n",
    "(\"X\",\"Z\",\"activate\"),\n",
    "(\"Y\", \"X\", \"activate\"),\n",
    "(\"Y\", \"Y\", \"activate\"),\n",
    "(\"Y\", \"Z\", \"inhibit\"),\n",
    "(\"Z\", \"Z\", \"activate\")\n",
    ")\n",
    "\n",
    "# Analyze the structure of the network\n",
    "# Load initial network data\n",
    "#network = pd.read_csv('/Users/guangrong/Documents/GitHub_project/AML digital twin/script/FLT3_NPM1_DNMT3A_model1.csv')\n",
    "network = CSV.File(\"/Users/15167/OneDrive/Documents/ISB/AML-DT-BNM/FLT3_NPM1_DNMT3A_add.csv\")|> DataFrame\n",
    "\n",
    "#println(\"starting nodes:\")\n",
    "#starting_nodes = setdiff(network[:,\"node1\"], network[:,\"node2\"])\n",
    "#println(starting_nodes)\n",
    "\n",
    "#println(\"ending nodes:\")\n",
    "#ending_nodes = setdiff(network[:,\"node2\"], network[:,\"node1\"])\n",
    "#println(ending_nodes)\n",
    "\n",
    "#println(\"all nodes:\")\n",
    "#all_nodes = length(union(network[:,\"node1\"], network[:,\"node2\"]))\n",
    "#println(all_nodes)"
   ]
  },
  {
   "cell_type": "code",
   "execution_count": 52,
   "id": "ef097c84",
   "metadata": {},
   "outputs": [
    {
     "name": "stdout",
     "output_type": "stream",
     "text": [
      "initial_values:\n",
      "Bool[1, 0, 0, 1, 0, 1, 0, 1, 1, 0, 0, 0, 0, 1, 0, 1, 0, 0, 1, 0, 1, 0, 1, 0]\n"
     ]
    },
    {
     "data": {
      "text/plain": [
       "Dict{String, Bool} with 24 entries:\n",
       "  \"ETV6\"   => 0\n",
       "  \"AKT1\"   => 1\n",
       "  \"HOXA9\"  => 1\n",
       "  \"MYC\"    => 0\n",
       "  \"NFKB2\"  => 0\n",
       "  \"BRAF\"   => 0\n",
       "  \"CDKN2A\" => 0\n",
       "  \"CCND1\"  => 0\n",
       "  \"NPM1\"   => 1\n",
       "  \"CEBPA\"  => 1\n",
       "  \"NRAS\"   => 0\n",
       "  \"STAT5A\" => 0\n",
       "  \"GATA2\"  => 1\n",
       "  \"DNMT3A\" => 0\n",
       "  \"TP53\"   => 0\n",
       "  \"FBXW7\"  => 1\n",
       "  \"MAP2K2\" => 0\n",
       "  \"SOX4\"   => 1\n",
       "  \"PTPN11\" => 1\n",
       "  \"BCL2\"   => 0\n",
       "  \"MAPK1\"  => 0\n",
       "  \"FLT3\"   => 0\n",
       "  \"MEIS1\"  => 1\n",
       "  \"GSK3B\"  => 1"
      ]
     },
     "execution_count": 52,
     "metadata": {},
     "output_type": "execute_result"
    }
   ],
   "source": [
    "#creating random inital values \n",
    "all_nodes = unique(union(network[:,\"node1\"], network[:,\"node2\"]))\n",
    "println(\"initial_values:\")\n",
    "initial_values = rand(Bool, length(all_nodes))\n",
    "println(initial_values)\n",
    "\n",
    "result_model = KGBN.initial_model(all_nodes, initial_values)\n",
    "\n",
    "#running the simulation (update_models_multisteps_with_perterbation)\n",
    "dic_nodes_upstream = KGBN.generate_dic_node_upstream(network)"
   ]
  },
  {
   "cell_type": "code",
   "execution_count": 55,
   "id": "81af646b",
   "metadata": {},
   "outputs": [
    {
     "name": "stdout",
     "output_type": "stream",
     "text": [
      "AKT1BRAFCDKN2ACEBPADNMT3AFBXW7FLT3GSK3BHOXA9MAP2K2MAPK1MYCNFKB2NPM1NRASPTPN11STAT5ATP53GATA2BCL2SOX4CCND1MEIS1ETV6"
     ]
    }
   ],
   "source": [
    "for node in all_nodes\n",
    "    print(node)\n",
    "end"
   ]
  },
  {
   "cell_type": "code",
   "execution_count": null,
   "id": "25b946be",
   "metadata": {},
   "outputs": [],
   "source": []
  }
 ],
 "metadata": {
  "kernelspec": {
   "display_name": "Julia 1.9.2",
   "language": "julia",
   "name": "julia-1.9"
  },
  "language_info": {
   "file_extension": ".jl",
   "mimetype": "application/julia",
   "name": "julia",
   "version": "1.9.2"
  }
 },
 "nbformat": 4,
 "nbformat_minor": 5
}
