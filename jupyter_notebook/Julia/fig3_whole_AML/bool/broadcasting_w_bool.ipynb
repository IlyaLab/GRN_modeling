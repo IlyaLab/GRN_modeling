{
 "cells": [
  {
   "cell_type": "code",
   "execution_count": null,
   "id": "1c6998f6",
   "metadata": {},
   "outputs": [],
   "source": [
    "#in an attempt to make the system converge faster and so creating the series doesn't take forever, I am trying to reduce the knocking in/out of genes to a simpler approach"
   ]
  },
  {
   "cell_type": "code",
   "execution_count": 1,
   "id": "55ad8cd6",
   "metadata": {},
   "outputs": [
    {
     "data": {
      "text/plain": [
       "Dict{String, Bool} with 2 entries:\n",
       "  \"NPM1\" => 0\n",
       "  \"FLT3\" => 1"
      ]
     },
     "execution_count": 1,
     "metadata": {},
     "output_type": "execute_result"
    }
   ],
   "source": [
    "mutation_dict = Dict(\"FLT3\" => true, \"NPM1\" => false)"
   ]
  },
  {
   "cell_type": "code",
   "execution_count": null,
   "id": "8b4cd7e0",
   "metadata": {},
   "outputs": [],
   "source": [
    "# Creating a sample patient matrix\n",
    "gene_variables = [\"FLT3\", \"NPM1\"]\n",
    "patient_matrix = rand(78, 10000) .> 0.5  # Assume random values are either 0 or 1 \n",
    "\n",
    "# Example mutation profile as a dictionary with boolean values\n",
    "mutation_dict = Dict(\"FLT3\" => true, \"NPM1\" => false)\n",
    "\n",
    "# Update patient_matrix based on mutation_dict\n",
    "for (gene, value) in mutation_dict\n",
    "    col_index = findfirst(x -> x == gene, gene_variables)\n",
    "    if col_index !== nothing\n",
    "        patient_matrix[col_index, :] .= value\n",
    "    else\n",
    "        println(\"Gene $gene not found in the patient matrix.\")\n",
    "    end\n",
    "end\n",
    "\n",
    "# Display the modified patient matrix\n",
    "println(patient_matrix)\n"
   ]
  }
 ],
 "metadata": {
  "kernelspec": {
   "display_name": "Julia 1.9.2",
   "language": "julia",
   "name": "julia-1.9"
  },
  "language_info": {
   "file_extension": ".jl",
   "mimetype": "application/julia",
   "name": "julia",
   "version": "1.9.2"
  }
 },
 "nbformat": 4,
 "nbformat_minor": 5
}
